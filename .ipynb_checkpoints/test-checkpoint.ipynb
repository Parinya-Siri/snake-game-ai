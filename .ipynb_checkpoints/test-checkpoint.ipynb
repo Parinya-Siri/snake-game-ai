{
 "cells": [
  {
   "cell_type": "code",
   "execution_count": 234,
   "id": "ee2edb0f-2af9-4c62-9927-728c05887c8a",
   "metadata": {
    "tags": []
   },
   "outputs": [],
   "source": [
    "import random\n",
    "\n",
    "class game:\n",
    "    def __init__(self,head = (1,4), body=((1,2),(1,3),(1,4)), food = (8,8), direction=\"DOWN\", border = [9,9]):\n",
    "        self.head = list(head)\n",
    "        self.body = [list(pos) for pos in body]\n",
    "        self.food = list(food)\n",
    "        self.direction = direction\n",
    "        self.border = list(border)\n",
    "    \n",
    "    def snake_growth(self):\n",
    "        if self.head != self.food:\n",
    "            self.body = self.body[1:]\n",
    "        self.body.append(list(self.head))\n",
    "        \n",
    "    \n",
    "    def move(self,key):\n",
    "        self.direction = key\n",
    "        if self.direction == \"UP\":\n",
    "            self.head[1] -= 1\n",
    "            self.snake_growth()\n",
    "        elif self.direction == \"DOWN\":\n",
    "            self.head[1] += 1\n",
    "            self.snake_growth()\n",
    "        elif self.direction == \"LEFT\":\n",
    "            self.head[0] -= 1\n",
    "            self.snake_growth()\n",
    "        elif self.direction == \"RIGHT\":\n",
    "            self.head[0] += 1\n",
    "            self.snake_growth()\n",
    "        \n",
    "    def call(self):\n",
    "        return self.head, self.body, self.food, self.direction, self.border\n",
    "    \n",
    "                "
   ]
  },
  {
   "cell_type": "code",
   "execution_count": 240,
   "id": "8ec0947d-c498-4b12-b0a1-91ae83fe8c98",
   "metadata": {
    "tags": []
   },
   "outputs": [
    {
     "data": {
      "text/plain": [
       "4"
      ]
     },
     "execution_count": 240,
     "metadata": {},
     "output_type": "execute_result"
    }
   ],
   "source": [
    "random.randint(0, 9)"
   ]
  },
  {
   "cell_type": "code",
   "execution_count": 241,
   "id": "241238de-43f8-4275-a5b0-4cedc5e3c54d",
   "metadata": {
    "tags": []
   },
   "outputs": [
    {
     "ename": "AttributeError",
     "evalue": "type object 'game' has no attribute 'game'",
     "output_type": "error",
     "traceback": [
      "\u001b[0;31m---------------------------------------------------------------------------\u001b[0m",
      "\u001b[0;31mAttributeError\u001b[0m                            Traceback (most recent call last)",
      "Cell \u001b[0;32mIn[241], line 3\u001b[0m\n\u001b[1;32m      1\u001b[0m \u001b[38;5;28;01mfrom\u001b[39;00m \u001b[38;5;21;01mgame\u001b[39;00m \u001b[38;5;28;01mimport\u001b[39;00m \u001b[38;5;241m*\u001b[39m\n\u001b[0;32m----> 3\u001b[0m game \u001b[38;5;241m=\u001b[39m \u001b[43mgame\u001b[49m\u001b[38;5;241;43m.\u001b[39;49m\u001b[43mgame\u001b[49m()\n",
      "\u001b[0;31mAttributeError\u001b[0m: type object 'game' has no attribute 'game'"
     ]
    }
   ],
   "source": [
    "from game import *\n",
    "\n",
    "game = game.game"
   ]
  },
  {
   "cell_type": "code",
   "execution_count": null,
   "id": "341d36e3-fabc-4e70-b4e5-4718e8221d45",
   "metadata": {},
   "outputs": [],
   "source": []
  }
 ],
 "metadata": {
  "kernelspec": {
   "display_name": "Python 3 (ipykernel)",
   "language": "python",
   "name": "python3"
  },
  "language_info": {
   "codemirror_mode": {
    "name": "ipython",
    "version": 3
   },
   "file_extension": ".py",
   "mimetype": "text/x-python",
   "name": "python",
   "nbconvert_exporter": "python",
   "pygments_lexer": "ipython3",
   "version": "3.8.10"
  }
 },
 "nbformat": 4,
 "nbformat_minor": 5
}
