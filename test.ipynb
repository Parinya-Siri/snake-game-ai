{
 "cells": [
  {
   "cell_type": "code",
   "execution_count": 1,
   "id": "547348b3-3f9e-4160-9656-1d349a8f3ec2",
   "metadata": {},
   "outputs": [],
   "source": [
    "from game import *\n",
    "game = game()"
   ]
  },
  {
   "cell_type": "code",
   "execution_count": 10,
   "id": "cf91a03a-db3d-4364-a2e9-22bbe3a14d2c",
   "metadata": {
    "tags": []
   },
   "outputs": [
    {
     "name": "stdout",
     "output_type": "stream",
     "text": [
      "food :  [2, 11] \n",
      "head :  [-8, 4] \n",
      "body :  [[-6, 4], [-7, 4], [-8, 4]]\n"
     ]
    }
   ],
   "source": [
    "key = 2\n",
    "game.move(key)\n",
    "print('food : ', game.food,'\\nhead : ',game.head, '\\nbody : ',game.body)"
   ]
  },
  {
   "cell_type": "code",
   "execution_count": 28,
   "id": "d709a39e-bc86-4f48-babf-955815be16f1",
   "metadata": {
    "tags": []
   },
   "outputs": [
    {
     "data": {
      "text/plain": [
       "0"
      ]
     },
     "execution_count": 28,
     "metadata": {},
     "output_type": "execute_result"
    }
   ],
   "source": [
    "g.reward"
   ]
  },
  {
   "cell_type": "code",
   "execution_count": null,
   "id": "90f6bf39-6be5-4731-bc3b-6cd0399b8ebe",
   "metadata": {},
   "outputs": [],
   "source": []
  }
 ],
 "metadata": {
  "kernelspec": {
   "display_name": "Python 3 (ipykernel)",
   "language": "python",
   "name": "python3"
  },
  "language_info": {
   "codemirror_mode": {
    "name": "ipython",
    "version": 3
   },
   "file_extension": ".py",
   "mimetype": "text/x-python",
   "name": "python",
   "nbconvert_exporter": "python",
   "pygments_lexer": "ipython3",
   "version": "3.8.10"
  }
 },
 "nbformat": 4,
 "nbformat_minor": 5
}
