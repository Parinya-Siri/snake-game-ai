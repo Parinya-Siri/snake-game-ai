{
 "cells": [
  {
   "cell_type": "code",
   "execution_count": 1,
   "id": "547348b3-3f9e-4160-9656-1d349a8f3ec2",
   "metadata": {},
   "outputs": [],
   "source": [
    "from game import *\n",
    "g = game()"
   ]
  },
  {
   "cell_type": "code",
   "execution_count": 3,
   "id": "cf91a03a-db3d-4364-a2e9-22bbe3a14d2c",
   "metadata": {
    "tags": []
   },
   "outputs": [],
   "source": [
    "key = 2\n",
    "g.move(key)"
   ]
  },
  {
   "cell_type": "code",
   "execution_count": 2,
   "id": "0df1302a-05c5-48ea-a136-acf3e3d30737",
   "metadata": {
    "tags": []
   },
   "outputs": [
    {
     "name": "stdout",
     "output_type": "stream",
     "text": [
      "[[ 0.  0.  0.  0.  0.  0.  0.  0.  0.  0.  0.  0.  0.  0.  0.  0.  0.  0.\n",
      "   0.  0.]\n",
      " [ 0.  0.  0.  0.  0.  0.  0.  0.  0.  0.  0.  0.  0.  0.  0.  0.  0.  0.\n",
      "   0.  0.]\n",
      " [ 0. -1.  0.  0.  0.  0.  0.  0.  0.  0.  0.  0.  0.  0.  0.  0.  0.  0.\n",
      "   0.  0.]\n",
      " [ 0. -1.  0.  0.  0.  0.  0.  0.  0.  0.  0.  0.  0.  0.  0.  0.  0.  0.\n",
      "   0.  0.]\n",
      " [ 0.  2.  0.  0.  0.  0.  0.  0.  0.  0.  0.  0.  0.  0.  0.  0.  0.  0.\n",
      "   0.  0.]\n",
      " [ 0.  0.  0.  0.  0.  0.  0.  0.  0.  0.  0.  0.  0.  0.  0.  0.  0.  0.\n",
      "   0.  0.]\n",
      " [ 0.  0.  0.  0.  0.  0.  0.  0.  0.  0.  0.  0.  0.  0.  0.  0.  0.  0.\n",
      "   0.  0.]\n",
      " [ 0.  0.  0.  0.  0.  0.  0.  0.  0.  0.  0.  0.  0.  0.  0.  0.  0.  0.\n",
      "   0.  0.]\n",
      " [ 0.  0.  0.  0.  0.  0.  0.  0.  0.  0.  0.  0.  0.  0.  0.  0.  0.  0.\n",
      "   0.  0.]\n",
      " [ 0.  0.  0.  0.  0.  0.  0.  0.  0.  0.  0.  0.  0.  0.  0.  0.  0.  0.\n",
      "   0.  0.]\n",
      " [ 0.  0.  0.  0.  0.  0.  0.  0.  0.  0.  0.  0.  0.  0.  0.  0.  0.  0.\n",
      "   0.  0.]\n",
      " [ 0.  0.  0.  0.  0.  0.  0.  0.  0.  0.  0.  0.  0.  0.  0.  0.  0.  0.\n",
      "   0.  0.]\n",
      " [ 0.  0.  0.  0.  0.  5.  0.  0.  0.  0.  0.  0.  0.  0.  0.  0.  0.  0.\n",
      "   0.  0.]\n",
      " [ 0.  0.  0.  0.  0.  0.  0.  0.  0.  0.  0.  0.  0.  0.  0.  0.  0.  0.\n",
      "   0.  0.]\n",
      " [ 0.  0.  0.  0.  0.  0.  0.  0.  0.  0.  0.  0.  0.  0.  0.  0.  0.  0.\n",
      "   0.  0.]\n",
      " [ 0.  0.  0.  0.  0.  0.  0.  0.  0.  0.  0.  0.  0.  0.  0.  0.  0.  0.\n",
      "   0.  0.]\n",
      " [ 0.  0.  0.  0.  0.  0.  0.  0.  0.  0.  0.  0.  0.  0.  0.  0.  0.  0.\n",
      "   0.  0.]\n",
      " [ 0.  0.  0.  0.  0.  0.  0.  0.  0.  0.  0.  0.  0.  0.  0.  0.  0.  0.\n",
      "   0.  0.]\n",
      " [ 0.  0.  0.  0.  0.  0.  0.  0.  0.  0.  0.  0.  0.  0.  0.  0.  0.  0.\n",
      "   0.  0.]\n",
      " [ 0.  0.  0.  0.  0.  0.  0.  0.  0.  0.  0.  0.  0.  0.  0.  0.  0.  0.\n",
      "   0.  0.]]\n",
      "food :  [5, 12] \n",
      "head :  [1, 4] \n",
      "body :  [[1, 2], [1, 3], [1, 4]]\n",
      "state :  [0. 1. 0. 1. 1. 0. 0. 0.]\n"
     ]
    }
   ],
   "source": [
    "x=np.array(g.visualize())\n",
    "print(x.T)\n",
    "print('food : ', g.food,'\\nhead : ',g.head, '\\nbody : ',g.body)\n",
    "print('state : ', g.get_state())"
   ]
  },
  {
   "cell_type": "code",
   "execution_count": 3,
   "id": "90f6bf39-6be5-4731-bc3b-6cd0399b8ebe",
   "metadata": {},
   "outputs": [
    {
     "data": {
      "text/plain": [
       "DQN(\n",
       "  (fc1): Linear(in_features=9, out_features=128, bias=True)\n",
       "  (fc2): Linear(in_features=128, out_features=64, bias=True)\n",
       "  (fc3): Linear(in_features=64, out_features=4, bias=True)\n",
       ")"
      ]
     },
     "execution_count": 3,
     "metadata": {},
     "output_type": "execute_result"
    }
   ],
   "source": [
    "import torch\n",
    "import torch.nn as nn\n",
    "import torch.nn.functional as F\n",
    "class DQN(nn.Module):\n",
    "    def __init__(self, state_size, action_size):\n",
    "        super(DQN, self).__init__()\n",
    "        self.fc1 = nn.Linear(state_size, 128)\n",
    "        self.fc2 = nn.Linear(128, 64)\n",
    "        self.fc3 = nn.Linear(64, action_size)\n",
    "\n",
    "    def forward(self, x):\n",
    "        x = F.relu(self.fc1(x))\n",
    "        x = F.relu(self.fc2(x))\n",
    "        x = self.fc3(x)\n",
    "        return x\n",
    "agent = DQN(9,4)\n",
    "agent.load_state_dict(torch.load('dqn_model_230.pth'))\n",
    "q_values = agent(torch.FloatTensor(g.get_state()))\n",
    "action = torch.argmax(q_values).item()\n",
    "agent"
   ]
  },
  {
   "cell_type": "code",
   "execution_count": 4,
   "id": "ca286a01-66a8-4b8a-ab5f-b58d022fb728",
   "metadata": {
    "tags": []
   },
   "outputs": [
    {
     "data": {
      "text/plain": [
       "tensor([ 0.,  1.,  0.,  1.,  1.,  0.,  0.,  0., 13.], dtype=torch.float64)"
      ]
     },
     "execution_count": 4,
     "metadata": {},
     "output_type": "execute_result"
    }
   ],
   "source": [
    "torch.from_numpy(g.get_state())"
   ]
  },
  {
   "cell_type": "code",
   "execution_count": 3,
   "id": "b8370a37-747b-4616-95a3-cf41786b3946",
   "metadata": {
    "tags": []
   },
   "outputs": [],
   "source": [
    "import torch\n",
    "x=torch.load('dqn_model_286small.pth')"
   ]
  },
  {
   "cell_type": "code",
   "execution_count": 6,
   "id": "f7dd9ba6-acf9-412d-b8ec-92a98d88805b",
   "metadata": {
    "tags": []
   },
   "outputs": [],
   "source": [
    "import numpy as np\n",
    "from game import *\n",
    "g = game()\n",
    "def to_numpy(x,dic):\n",
    "    fc = x[dic].to(torch.device(\"cpu\"))\n",
    "    fc = fc.numpy()\n",
    "    return fc\n",
    "def action(state):\n",
    "    result = np.matmul(fc1,np.array(state))\n",
    "    result = result+b1\n",
    "    result = np.maximum(result, 0)   # Apply ReLU activation function\n",
    "    result = np.matmul(fc2,result)\n",
    "    result = result+b2\n",
    "    result = np.maximum(result, 0)   # Apply ReLU activation function\n",
    "    result = np.matmul(fc3,result)\n",
    "    result = result+b3\n",
    "    return result\n",
    "fc1 = np.load('fc1.npy')\n",
    "fc2 = np.load('fc2.npy')\n",
    "fc3 = np.load('fc3.npy')\n",
    "b1 = np.load('b1.npy')\n",
    "b2 = np.load('b2.npy')\n",
    "b3 = np.load('b3.npy')\n",
    "state = g.get_state()"
   ]
  },
  {
   "cell_type": "code",
   "execution_count": 6,
   "id": "42361c42-1280-457f-92ad-08d4da4fed4f",
   "metadata": {},
   "outputs": [
    {
     "name": "stdout",
     "output_type": "stream",
     "text": [
      "[[ 0.  0.  0.  0.  0.  0.  0.]\n",
      " [ 0.  0.  0.  0.  0.  0.  0.]\n",
      " [ 0. -1.  0.  0.  0.  0.  0.]\n",
      " [ 0. -1.  0.  0.  0.  0.  0.]\n",
      " [ 0.  2.  0.  0.  0.  0.  0.]\n",
      " [ 5.  0.  0.  0.  0.  0.  0.]\n",
      " [ 0.  0.  0.  0.  0.  0.  0.]]\n"
     ]
    }
   ],
   "source": [
    "# g.move(np.argmax(action(state)))\n",
    "print(g.visualize().T)"
   ]
  },
  {
   "cell_type": "code",
   "execution_count": 7,
   "id": "cb093bfc-37fd-4d53-b5cd-53b0a8d67236",
   "metadata": {
    "tags": []
   },
   "outputs": [
    {
     "data": {
      "text/plain": [
       "2"
      ]
     },
     "execution_count": 7,
     "metadata": {},
     "output_type": "execute_result"
    }
   ],
   "source": [
    "np.argmax(action(g.get_state()))"
   ]
  },
  {
   "cell_type": "code",
   "execution_count": 8,
   "id": "0e4d27c5-2a62-4bea-9d2b-b1f562e8a65e",
   "metadata": {
    "tags": []
   },
   "outputs": [
    {
     "data": {
      "text/plain": [
       "array([-0.85148166,  2.29998679,  2.39747466,  1.99006445])"
      ]
     },
     "execution_count": 8,
     "metadata": {},
     "output_type": "execute_result"
    }
   ],
   "source": [
    "action(g.get_state())"
   ]
  },
  {
   "cell_type": "code",
   "execution_count": 9,
   "id": "efdcdbcb-bdb4-42b0-9e38-d29fc2edd3e8",
   "metadata": {
    "tags": []
   },
   "outputs": [
    {
     "data": {
      "text/plain": [
       "tensor([-0.8515,  2.3000,  2.3975,  1.9901], grad_fn=<AddBackward0>)"
      ]
     },
     "execution_count": 9,
     "metadata": {},
     "output_type": "execute_result"
    }
   ],
   "source": [
    "agent(torch.FloatTensor(g.get_state()))"
   ]
  },
  {
   "cell_type": "code",
   "execution_count": 24,
   "id": "a797e902-90fc-4535-8324-6621d8001ba4",
   "metadata": {
    "tags": []
   },
   "outputs": [
    {
     "data": {
      "text/plain": [
       "tensor(1)"
      ]
     },
     "execution_count": 24,
     "metadata": {},
     "output_type": "execute_result"
    }
   ],
   "source": [
    "torch.argmax(agent(torch.FloatTensor(g.get_state())))"
   ]
  },
  {
   "cell_type": "code",
   "execution_count": 37,
   "id": "d3350e19-1039-4b19-a91a-984c0cfc9fed",
   "metadata": {
    "tags": []
   },
   "outputs": [
    {
     "data": {
      "text/plain": [
       "array([0.31632835, 0.25919864, 0.18016426, 0.38999352], dtype=float32)"
      ]
     },
     "execution_count": 37,
     "metadata": {},
     "output_type": "execute_result"
    }
   ],
   "source": [
    "b3"
   ]
  },
  {
   "cell_type": "code",
   "execution_count": 32,
   "id": "374ab7e6-104a-4393-a670-7e4ec9d908cc",
   "metadata": {
    "tags": []
   },
   "outputs": [
    {
     "data": {
      "text/plain": [
       "OrderedDict([('fc1.weight',\n",
       "              tensor([[-0.3722, -0.5413, -0.0090,  ...,  0.0225,  0.2799,  0.0574],\n",
       "                      [-0.3022, -0.2873,  0.2645,  ...,  0.4173, -0.1135, -0.0721],\n",
       "                      [ 0.2956,  0.2769, -0.1359,  ...,  0.1556,  0.5216, -0.0144],\n",
       "                      ...,\n",
       "                      [ 0.2600, -0.0628,  0.2948,  ..., -0.1818, -0.0565, -0.2484],\n",
       "                      [-0.0159,  0.4283, -0.1894,  ...,  0.1432, -0.3145, -0.0436],\n",
       "                      [-0.1565,  0.1787,  0.1698,  ..., -0.2575, -0.3051, -0.0182]])),\n",
       "             ('fc1.bias',\n",
       "              tensor([-0.0877,  0.3203, -0.2253, -0.2265,  0.2732, -0.2570, -0.2585,  0.2055,\n",
       "                      -0.1632, -0.0460,  0.6006, -0.3830,  0.3834,  0.2731,  0.0620,  0.1483,\n",
       "                      -0.3338,  0.2284, -0.1604, -0.0387, -0.2606, -0.1789, -0.3317, -0.0432,\n",
       "                       0.2589,  0.0572, -0.4772,  0.1687, -0.0603,  0.1326, -0.2894, -0.0435,\n",
       "                      -0.4802, -0.3915,  0.0089, -0.0238, -0.1280, -0.1583,  0.1670, -0.3732,\n",
       "                       0.3970, -0.1148, -0.5184,  0.3851,  0.0628, -0.1078,  0.5011,  0.1996,\n",
       "                      -0.2577, -0.4138,  0.0618, -0.1459,  0.6337, -0.0733, -0.1952, -0.2082,\n",
       "                      -0.2570,  0.0498, -0.0931, -0.0242, -0.2471,  0.2702, -0.4099, -0.3838,\n",
       "                       0.2208,  0.7584, -0.0460, -0.7728, -0.3910,  0.3428, -0.0657,  0.0405,\n",
       "                       0.4725, -0.0052, -0.1444, -0.1503, -0.4279,  0.7259,  0.2789, -0.8339,\n",
       "                      -0.1355, -0.5213, -0.1731, -0.2880, -0.2330,  0.4505,  0.0063, -0.1471,\n",
       "                      -0.2182,  0.3807, -0.2142, -0.2470, -0.2256, -0.0229,  0.3478,  0.1946,\n",
       "                      -0.1577,  0.2376, -0.2430, -0.2380,  0.3794, -0.1922, -0.0994,  0.5827,\n",
       "                      -0.0084, -0.0124, -0.2583, -0.0474, -0.5354, -0.2153,  0.0118,  0.3139,\n",
       "                      -0.1197, -0.0146,  0.2498, -0.4832, -0.4242, -0.3906, -0.4226,  0.2151,\n",
       "                      -0.4121, -0.1151,  0.3453,  0.4900, -0.4265, -0.2313,  0.1764,  0.0595])),\n",
       "             ('fc2.weight',\n",
       "              tensor([[-0.0401, -0.1064, -0.1797,  ...,  0.0660,  0.0741, -0.0402],\n",
       "                      [-0.0290,  0.1178, -0.0750,  ..., -0.0495,  0.0335, -0.0296],\n",
       "                      [ 0.0042, -0.0846,  0.0669,  ..., -0.0057,  0.0127, -0.0505],\n",
       "                      ...,\n",
       "                      [-0.0572, -0.0371,  0.1055,  ...,  0.0952, -0.1695, -0.1129],\n",
       "                      [-0.1792, -0.0170, -0.1043,  ..., -0.0527, -0.0057,  0.0261],\n",
       "                      [ 0.0798, -0.2326,  0.0807,  ...,  0.0006,  0.0090,  0.0528]])),\n",
       "             ('fc2.bias',\n",
       "              tensor([-0.0648,  0.1723, -0.0788,  0.0269, -0.0735,  0.1335,  0.3525, -0.1099,\n",
       "                      -0.0227, -0.0625, -0.0727,  0.2804, -0.0981,  0.1444,  0.1170,  0.1261,\n",
       "                      -0.0388, -0.0195, -0.0512, -0.0154,  0.3167,  0.2569, -0.1284,  0.3795,\n",
       "                      -0.1210, -0.1339,  0.0703,  0.2346,  0.0884,  0.0321,  0.0281,  0.0877,\n",
       "                       0.2387, -0.0396,  0.0584, -0.0018,  0.0336,  0.2879,  0.1619, -0.0277,\n",
       "                       0.3391, -0.0769,  0.1156, -0.0080,  0.2421, -0.0136, -0.0735,  0.2128,\n",
       "                       0.2881,  0.1991, -0.1105,  0.0029,  0.1728, -0.0746,  0.1383, -0.0496,\n",
       "                      -0.0020,  0.0293,  0.1748,  0.2703,  0.1275, -0.0701,  0.3602,  0.0892])),\n",
       "             ('fc3.weight',\n",
       "              tensor([[ 1.0216e-02, -1.0072e-01, -2.8491e-02, -3.0535e-03,  3.4993e-02,\n",
       "                       -9.9233e-02,  3.9261e-02, -1.7020e-01, -1.5388e-02,  8.5198e-02,\n",
       "                       -5.7379e-02,  1.1881e-01,  3.5484e-02, -6.2067e-01,  7.8991e-02,\n",
       "                        8.5920e-02,  9.3567e-03,  2.4270e-03, -1.9189e-02, -2.0454e-01,\n",
       "                        1.3643e-01,  4.6923e-02, -6.4665e-02,  1.1425e-01, -1.5227e-01,\n",
       "                       -8.1411e-02, -1.6866e-01,  6.3943e-02,  6.0641e-02, -6.5291e-01,\n",
       "                        1.2071e-01,  8.4356e-02,  5.3863e-02, -2.4072e-01,  1.6488e-01,\n",
       "                        1.1160e-01, -2.0728e-01,  7.7523e-02,  1.0904e-01, -7.1355e-02,\n",
       "                        1.7587e-01,  2.5298e-01, -4.2674e-01, -6.6951e-02,  1.6406e-01,\n",
       "                        2.7517e-03, -7.1858e-02,  1.3581e-01,  2.2705e-02,  4.8251e-02,\n",
       "                       -1.3942e-02,  3.9318e-02,  1.5241e-01, -7.3805e-02,  9.2836e-02,\n",
       "                        6.3620e-02, -2.0163e-01, -3.2122e-01,  6.4639e-02,  6.7130e-02,\n",
       "                       -3.3944e-01, -3.3297e-01,  3.1528e-02, -2.2864e-02],\n",
       "                      [-5.5772e-01,  6.2872e-02,  4.7961e-02,  2.5928e-02,  7.4840e-02,\n",
       "                        1.8651e-02,  5.8592e-02,  1.3446e-02,  8.1459e-02, -3.5520e-02,\n",
       "                       -4.9160e-02,  9.5316e-02,  1.0657e-01,  7.6192e-02,  1.5075e-01,\n",
       "                        8.2267e-02,  6.4032e-02, -2.1933e-01,  5.7395e-03,  2.6285e-02,\n",
       "                        1.8759e-01,  7.8443e-02, -2.6835e-01,  1.5345e-01,  1.0820e-02,\n",
       "                        4.3427e-02,  2.1572e-02,  6.3490e-02,  1.3564e-02,  1.4938e-02,\n",
       "                       -1.5660e-02, -3.4459e-02,  6.3095e-02, -5.2123e-03, -1.5802e-01,\n",
       "                       -1.5322e-01,  1.6794e-02,  6.6889e-02,  1.0285e-01,  2.1181e-02,\n",
       "                        1.3927e-01, -3.5641e-01,  3.3779e-02, -6.2886e-02,  5.7266e-02,\n",
       "                       -5.1462e-02,  3.1732e-02,  3.6117e-04,  1.3044e-01,  6.3064e-02,\n",
       "                       -2.3132e-02, -2.2252e-01,  1.0251e-01, -1.0465e-01,  3.1382e-02,\n",
       "                       -6.3902e-01, -1.8360e-01,  2.1879e-02, -5.5084e-01,  1.1304e-01,\n",
       "                        1.6620e-01, -1.2638e-02,  1.2243e-01, -3.9712e-01],\n",
       "                      [ 1.3367e-01,  1.8228e-02, -4.6419e-02, -1.0281e-01,  1.0196e-01,\n",
       "                        3.7492e-02,  4.4780e-02, -5.3639e-01,  2.3572e-02, -1.0706e-01,\n",
       "                        9.6800e-02,  4.6237e-02,  2.6633e-02,  7.0527e-02, -2.0312e-01,\n",
       "                       -7.5712e-02, -3.8581e-02,  5.2833e-03,  8.9886e-02,  2.8238e-02,\n",
       "                       -8.5185e-01,  6.4457e-02,  6.8440e-03,  2.4045e-01, -2.7260e-02,\n",
       "                       -1.1019e-02,  1.1298e-01,  2.9770e-02,  4.4276e-02,  1.6280e-02,\n",
       "                        4.2075e-02, -3.4554e-01,  6.2338e-02,  3.9699e-03,  1.5311e-01,\n",
       "                        5.1389e-02,  3.1757e-02,  1.3403e-01,  9.2789e-02,  6.7208e-02,\n",
       "                        1.7110e-01,  6.7236e-03,  1.2772e-01, -1.1113e-01,  4.5405e-02,\n",
       "                       -2.6404e-01,  1.0083e-01,  1.0973e-01,  6.4010e-02,  7.5259e-02,\n",
       "                        5.6275e-02,  1.7119e-02,  5.1424e-02,  4.8020e-02,  1.0367e-01,\n",
       "                        1.8971e-02, -2.3352e-01, -2.2038e-02,  7.0437e-02,  7.5652e-02,\n",
       "                        7.7173e-02, -4.2911e-02,  8.1797e-02, -2.0200e-02],\n",
       "                      [ 4.9560e-03,  6.0799e-02,  7.6099e-02,  4.9959e-02, -2.7761e-02,\n",
       "                        3.3371e-02,  6.9305e-02, -6.4720e-02,  7.0100e-02,  8.8371e-03,\n",
       "                       -9.9206e-02,  1.1021e-01,  5.2635e-02,  1.1119e-01,  2.8780e-02,\n",
       "                        1.0604e-01,  3.8497e-02, -3.9107e-01, -8.9684e-02, -3.5754e-02,\n",
       "                        1.0460e-01, -9.9745e-01, -6.7074e-02, -1.7468e-02, -1.9603e-01,\n",
       "                       -8.8413e-02,  5.0242e-02,  8.2536e-02,  5.7591e-02,  4.5410e-02,\n",
       "                       -2.1531e-02,  4.9066e-02,  1.0945e-01,  9.9608e-03,  1.0476e-01,\n",
       "                       -4.5348e-02,  1.9966e-02,  1.0273e-01, -2.3388e-01,  6.5722e-02,\n",
       "                        1.1777e-01, -2.2960e-01,  8.9579e-02, -5.6909e-02,  8.6779e-02,\n",
       "                        2.5377e-02,  9.9637e-02,  1.1335e-01,  1.1737e-01,  2.6491e-02,\n",
       "                       -4.2990e-01,  1.2700e-01,  5.2249e-02, -1.0471e-01,  5.6893e-03,\n",
       "                        7.7455e-02,  9.6131e-02, -9.9172e-02,  8.6338e-02,  7.5979e-02,\n",
       "                        6.5477e-02,  3.2174e-02,  1.1138e-01, -3.4830e-03]])),\n",
       "             ('fc3.bias', tensor([0.3163, 0.2592, 0.1802, 0.3900]))])"
      ]
     },
     "execution_count": 32,
     "metadata": {},
     "output_type": "execute_result"
    }
   ],
   "source": [
    "agent.state_dict()"
   ]
  },
  {
   "cell_type": "code",
   "execution_count": 8,
   "id": "c4548815-17e6-4a1c-8a41-77a3155fd6a1",
   "metadata": {
    "tags": []
   },
   "outputs": [],
   "source": [
    "np.save('fc1',fc1)\n",
    "np.save('b1',b1)\n",
    "np.save('fc2',fc2)\n",
    "np.save('b2',b2)\n",
    "np.save('fc3',fc3)\n",
    "np.save('b3',b3)"
   ]
  },
  {
   "cell_type": "code",
   "execution_count": 7,
   "id": "9957b185-da43-4513-96ce-07325db08d6c",
   "metadata": {
    "tags": []
   },
   "outputs": [],
   "source": [
    "b1 = to_numpy(x,'fc1.bias')\n",
    "fc1 =to_numpy(x,'fc1.weight')\n",
    "b2 = to_numpy(x,'fc2.bias')\n",
    "fc2 =to_numpy(x,'fc2.weight')\n",
    "b3 = to_numpy(x,'fc3.bias')\n",
    "fc3 =to_numpy(x,'fc3.weight')"
   ]
  },
  {
   "cell_type": "code",
   "execution_count": 42,
   "id": "27a40965-1d63-46d1-84ca-5eb1772e0fe5",
   "metadata": {
    "tags": []
   },
   "outputs": [
    {
     "ename": "UnicodeDecodeError",
     "evalue": "'utf-8' codec can't decode byte 0x93 in position 0: invalid start byte",
     "output_type": "error",
     "traceback": [
      "\u001b[0;31m---------------------------------------------------------------------------\u001b[0m",
      "\u001b[0;31mUnicodeDecodeError\u001b[0m                        Traceback (most recent call last)",
      "Cell \u001b[0;32mIn[42], line 2\u001b[0m\n\u001b[1;32m      1\u001b[0m text_file \u001b[38;5;241m=\u001b[39m \u001b[38;5;28mopen\u001b[39m(\u001b[38;5;124m\"\u001b[39m\u001b[38;5;124mfc1.npy\u001b[39m\u001b[38;5;124m\"\u001b[39m, \u001b[38;5;124m\"\u001b[39m\u001b[38;5;124mr\u001b[39m\u001b[38;5;124m\"\u001b[39m)\n\u001b[0;32m----> 2\u001b[0m lines \u001b[38;5;241m=\u001b[39m \u001b[43mtext_file\u001b[49m\u001b[38;5;241;43m.\u001b[39;49m\u001b[43mreadlines\u001b[49m\u001b[43m(\u001b[49m\u001b[43m)\u001b[49m\n\u001b[1;32m      3\u001b[0m \u001b[38;5;28mprint\u001b[39m(lines)\n",
      "File \u001b[0;32m/usr/lib/python3.8/codecs.py:322\u001b[0m, in \u001b[0;36mBufferedIncrementalDecoder.decode\u001b[0;34m(self, input, final)\u001b[0m\n\u001b[1;32m    319\u001b[0m \u001b[38;5;28;01mdef\u001b[39;00m \u001b[38;5;21mdecode\u001b[39m(\u001b[38;5;28mself\u001b[39m, \u001b[38;5;28minput\u001b[39m, final\u001b[38;5;241m=\u001b[39m\u001b[38;5;28;01mFalse\u001b[39;00m):\n\u001b[1;32m    320\u001b[0m     \u001b[38;5;66;03m# decode input (taking the buffer into account)\u001b[39;00m\n\u001b[1;32m    321\u001b[0m     data \u001b[38;5;241m=\u001b[39m \u001b[38;5;28mself\u001b[39m\u001b[38;5;241m.\u001b[39mbuffer \u001b[38;5;241m+\u001b[39m \u001b[38;5;28minput\u001b[39m\n\u001b[0;32m--> 322\u001b[0m     (result, consumed) \u001b[38;5;241m=\u001b[39m \u001b[38;5;28;43mself\u001b[39;49m\u001b[38;5;241;43m.\u001b[39;49m\u001b[43m_buffer_decode\u001b[49m\u001b[43m(\u001b[49m\u001b[43mdata\u001b[49m\u001b[43m,\u001b[49m\u001b[43m \u001b[49m\u001b[38;5;28;43mself\u001b[39;49m\u001b[38;5;241;43m.\u001b[39;49m\u001b[43merrors\u001b[49m\u001b[43m,\u001b[49m\u001b[43m \u001b[49m\u001b[43mfinal\u001b[49m\u001b[43m)\u001b[49m\n\u001b[1;32m    323\u001b[0m     \u001b[38;5;66;03m# keep undecoded input until the next call\u001b[39;00m\n\u001b[1;32m    324\u001b[0m     \u001b[38;5;28mself\u001b[39m\u001b[38;5;241m.\u001b[39mbuffer \u001b[38;5;241m=\u001b[39m data[consumed:]\n",
      "\u001b[0;31mUnicodeDecodeError\u001b[0m: 'utf-8' codec can't decode byte 0x93 in position 0: invalid start byte"
     ]
    }
   ],
   "source": [
    "text_file = open(\"fc1.npy\", \"r\")\n",
    "lines = text_file.readlines()\n",
    "print(lines)"
   ]
  },
  {
   "cell_type": "code",
   "execution_count": 15,
   "id": "0973b320-6cad-4cde-ba8a-46526ba669b6",
   "metadata": {
    "tags": []
   },
   "outputs": [
    {
     "data": {
      "text/plain": [
       "array([0.08725061, 0.18133354, 0.81122863, 0.4002299 ], dtype=float32)"
      ]
     },
     "execution_count": 15,
     "metadata": {},
     "output_type": "execute_result"
    }
   ],
   "source": [
    "b3"
   ]
  },
  {
   "cell_type": "code",
   "execution_count": null,
   "id": "d56ca81d-2d43-4a87-ae7c-b8cb67eced12",
   "metadata": {},
   "outputs": [],
   "source": []
  }
 ],
 "metadata": {
  "kernelspec": {
   "display_name": "Python 3 (ipykernel)",
   "language": "python",
   "name": "python3"
  },
  "language_info": {
   "codemirror_mode": {
    "name": "ipython",
    "version": 3
   },
   "file_extension": ".py",
   "mimetype": "text/x-python",
   "name": "python",
   "nbconvert_exporter": "python",
   "pygments_lexer": "ipython3",
   "version": "3.8.10"
  }
 },
 "nbformat": 4,
 "nbformat_minor": 5
}
